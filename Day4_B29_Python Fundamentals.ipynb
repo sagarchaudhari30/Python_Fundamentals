{
 "cells": [
  {
   "cell_type": "code",
   "execution_count": 1,
   "metadata": {},
   "outputs": [],
   "source": [
    "# Introduction to list datatypes :"
   ]
  },
  {
   "cell_type": "code",
   "execution_count": null,
   "metadata": {},
   "outputs": [],
   "source": [
    "Defination :  A list is a collection of otemas in a particular order\n",
    "Classification : a list is classified as a multiple datatype. (Which can edit/alter once it has been defined)\n",
    "Defining : ----> [] ----> square brakcet"
   ]
  },
  {
   "cell_type": "code",
   "execution_count": 2,
   "metadata": {},
   "outputs": [
    {
     "name": "stdout",
     "output_type": "stream",
     "text": [
      "['alena', 'pavan', 'prabhu', 'ramesh', 'bharat', 'anjali']\n"
     ]
    }
   ],
   "source": [
    "students= ['alena','pavan','prabhu','ramesh','bharat','anjali']\n",
    "print(students)"
   ]
  },
  {
   "cell_type": "code",
   "execution_count": 3,
   "metadata": {},
   "outputs": [
    {
     "data": {
      "text/plain": [
       "list"
      ]
     },
     "execution_count": 3,
     "metadata": {},
     "output_type": "execute_result"
    }
   ],
   "source": [
    "type(students)"
   ]
  },
  {
   "cell_type": "code",
   "execution_count": 5,
   "metadata": {},
   "outputs": [],
   "source": [
    "#Req : How to access the elements from the list ...?\n",
    "# pavan --- Name from the above list"
   ]
  },
  {
   "cell_type": "code",
   "execution_count": null,
   "metadata": {},
   "outputs": [],
   "source": [
    "Introduction to indexing in list:   (start from 0 always)\n",
    "    0,1,2,3,4,5,..."
   ]
  },
  {
   "cell_type": "code",
   "execution_count": 6,
   "metadata": {},
   "outputs": [
    {
     "name": "stdout",
     "output_type": "stream",
     "text": [
      "pavan\n"
     ]
    }
   ],
   "source": [
    "print(students[1])"
   ]
  },
  {
   "cell_type": "code",
   "execution_count": 7,
   "metadata": {},
   "outputs": [
    {
     "name": "stdout",
     "output_type": "stream",
     "text": [
      "Bharat\n"
     ]
    }
   ],
   "source": [
    "print(students[4].title())"
   ]
  },
  {
   "cell_type": "code",
   "execution_count": null,
   "metadata": {},
   "outputs": [],
   "source": [
    "req: \n",
    "    1. Add a new student name to the above list ---> Ajeet\n",
    "    2. Replace a student 'alena' ---> 'anusha'\n",
    "    3. Delete pavan name from above list\n",
    "    \n",
    "    int question :\n",
    "        What is the difference between append vs insert .. ?"
   ]
  },
  {
   "cell_type": "code",
   "execution_count": 8,
   "metadata": {},
   "outputs": [
    {
     "name": "stdout",
     "output_type": "stream",
     "text": [
      "['alena', 'pavan', 'prabhu', 'ramesh', 'bharat', 'anjali', 'ajeeth']\n"
     ]
    }
   ],
   "source": [
    "students.append('ajeeth')  #Add name\n",
    "print(students)"
   ]
  },
  {
   "cell_type": "code",
   "execution_count": 9,
   "metadata": {},
   "outputs": [
    {
     "name": "stdout",
     "output_type": "stream",
     "text": [
      "['alena', 'pavan', 'prabhu', 'ramesh', 'bharat', 'anjali', 'ajeeth', 'diya']\n"
     ]
    }
   ],
   "source": [
    "students.append('diya')  #Add name\n",
    "print(students)"
   ]
  },
  {
   "cell_type": "code",
   "execution_count": null,
   "metadata": {},
   "outputs": [],
   "source": [
    "Sub req : to add Harshitha name at the 3rd position, How can we achive this ?\n",
    "    "
   ]
  },
  {
   "cell_type": "code",
   "execution_count": 10,
   "metadata": {},
   "outputs": [
    {
     "name": "stdout",
     "output_type": "stream",
     "text": [
      "['alena', 'pavan', 'prabhu', 'harshitha', 'ramesh', 'bharat', 'anjali', 'ajeeth', 'diya']\n"
     ]
    }
   ],
   "source": [
    "students.insert(3,'harshitha')  #Add name at specific index\n",
    "print(students)"
   ]
  },
  {
   "cell_type": "code",
   "execution_count": 12,
   "metadata": {},
   "outputs": [
    {
     "name": "stdout",
     "output_type": "stream",
     "text": [
      "harshitha\n"
     ]
    }
   ],
   "source": [
    "print(students[3])  #verify indexing"
   ]
  },
  {
   "cell_type": "code",
   "execution_count": 13,
   "metadata": {},
   "outputs": [
    {
     "name": "stdout",
     "output_type": "stream",
     "text": [
      "['alena', 'pavan', 'prabhu', 'harshitha', 'ramesh', 'bharat', 'anjali', 'ajeeth', 'diya']\n"
     ]
    }
   ],
   "source": [
    "print(students) #Will replace alena to anusha"
   ]
  },
  {
   "cell_type": "code",
   "execution_count": 14,
   "metadata": {},
   "outputs": [],
   "source": [
    "students[0] = 'anusha'  #To replace at perticular indexing"
   ]
  },
  {
   "cell_type": "code",
   "execution_count": 15,
   "metadata": {},
   "outputs": [
    {
     "name": "stdout",
     "output_type": "stream",
     "text": [
      "['anusha', 'pavan', 'prabhu', 'harshitha', 'ramesh', 'bharat', 'anjali', 'ajeeth', 'diya']\n"
     ]
    }
   ],
   "source": [
    "print(students)"
   ]
  },
  {
   "cell_type": "code",
   "execution_count": 16,
   "metadata": {},
   "outputs": [],
   "source": [
    "del students[1]  #Delete perticular name with indexing"
   ]
  },
  {
   "cell_type": "code",
   "execution_count": 17,
   "metadata": {},
   "outputs": [
    {
     "name": "stdout",
     "output_type": "stream",
     "text": [
      "['anusha', 'prabhu', 'harshitha', 'ramesh', 'bharat', 'anjali', 'ajeeth', 'diya']\n"
     ]
    }
   ],
   "source": [
    "print(students)"
   ]
  },
  {
   "cell_type": "code",
   "execution_count": null,
   "metadata": {},
   "outputs": [],
   "source": []
  }
 ],
 "metadata": {
  "kernelspec": {
   "display_name": "Python 3",
   "language": "python",
   "name": "python3"
  },
  "language_info": {
   "codemirror_mode": {
    "name": "ipython",
    "version": 3
   },
   "file_extension": ".py",
   "mimetype": "text/x-python",
   "name": "python",
   "nbconvert_exporter": "python",
   "pygments_lexer": "ipython3",
   "version": "3.8.3"
  }
 },
 "nbformat": 4,
 "nbformat_minor": 4
}

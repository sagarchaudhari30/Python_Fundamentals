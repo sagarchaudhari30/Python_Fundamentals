{
 "cells": [
  {
   "cell_type": "code",
   "execution_count": 1,
   "metadata": {},
   "outputs": [],
   "source": [
    "## Dictionary continuation....!"
   ]
  },
  {
   "cell_type": "code",
   "execution_count": 6,
   "metadata": {},
   "outputs": [],
   "source": [
    "user ={'username':'sagar_c', 'fname':'sagar', 'lname':'chaudhari', 'password':'12345'}"
   ]
  },
  {
   "cell_type": "code",
   "execution_count": 2,
   "metadata": {},
   "outputs": [
    {
     "name": "stdout",
     "output_type": "stream",
     "text": [
      "{'username': 'sagar_c', 'fname': 'sagar', 'lname': 'chaudhari', 'password': '12345'}\n"
     ]
    }
   ],
   "source": [
    "print(user)"
   ]
  },
  {
   "cell_type": "code",
   "execution_count": null,
   "metadata": {},
   "outputs": [],
   "source": [
    "# General syntax for loop implimentation in Dictionary:\n",
    "    \n",
    "for tempvar1, tempvar2 in mainvar.itemas():\n",
    "    print(tempvar1)\n",
    "    print(tempvar2)"
   ]
  },
  {
   "cell_type": "code",
   "execution_count": 3,
   "metadata": {},
   "outputs": [
    {
     "name": "stdout",
     "output_type": "stream",
     "text": [
      "username\n",
      "sagar_c\n",
      "fname\n",
      "sagar\n",
      "lname\n",
      "chaudhari\n",
      "password\n",
      "12345\n"
     ]
    }
   ],
   "source": [
    "for key,value in user.items():\n",
    "    print(key)\n",
    "    print(value)"
   ]
  },
  {
   "cell_type": "code",
   "execution_count": 4,
   "metadata": {},
   "outputs": [
    {
     "name": "stdout",
     "output_type": "stream",
     "text": [
      "key:username\n",
      "Value:sagar_c\n",
      "\n",
      "key:fname\n",
      "Value:sagar\n",
      "\n",
      "key:lname\n",
      "Value:chaudhari\n",
      "\n",
      "key:password\n",
      "Value:12345\n",
      "\n"
     ]
    }
   ],
   "source": [
    "for key,value in user.items():\n",
    "    print(f\"key:{key}\")\n",
    "    print(f\"Value:{value}\\n\")"
   ]
  },
  {
   "cell_type": "code",
   "execution_count": 5,
   "metadata": {},
   "outputs": [
    {
     "name": "stdout",
     "output_type": "stream",
     "text": [
      "key:username\n",
      "Value:sagar_c\n",
      "\n",
      "key:fname\n",
      "Value:sagar\n",
      "\n",
      "key:lname\n",
      "Value:chaudhari\n",
      "\n",
      "key:password\n",
      "Value:12345\n",
      "\n"
     ]
    }
   ],
   "source": [
    "for x,y in user.items():\n",
    "    print(f\"key:{x}\")\n",
    "    print(f\"Value:{y}\\n\")"
   ]
  },
  {
   "cell_type": "code",
   "execution_count": null,
   "metadata": {},
   "outputs": [],
   "source": []
  },
  {
   "cell_type": "code",
   "execution_count": null,
   "metadata": {},
   "outputs": [],
   "source": [
    "#Req :  i want to get only keys or values in the output:"
   ]
  },
  {
   "cell_type": "code",
   "execution_count": 7,
   "metadata": {},
   "outputs": [
    {
     "name": "stdout",
     "output_type": "stream",
     "text": [
      "username\n",
      "fname\n",
      "lname\n",
      "password\n"
     ]
    }
   ],
   "source": [
    "for x in user.keys():   #only keys\n",
    "    print(x)"
   ]
  },
  {
   "cell_type": "code",
   "execution_count": 8,
   "metadata": {},
   "outputs": [
    {
     "name": "stdout",
     "output_type": "stream",
     "text": [
      "sagar_c\n",
      "sagar\n",
      "chaudhari\n",
      "12345\n"
     ]
    }
   ],
   "source": [
    "for y in user.values():    #only values\n",
    "    print(y)"
   ]
  },
  {
   "cell_type": "code",
   "execution_count": null,
   "metadata": {},
   "outputs": [],
   "source": []
  },
  {
   "cell_type": "code",
   "execution_count": 9,
   "metadata": {},
   "outputs": [
    {
     "name": "stdout",
     "output_type": "stream",
     "text": [
      "key: username\n",
      "key: fname\n",
      "key: lname\n",
      "key: password\n"
     ]
    }
   ],
   "source": [
    "for x in user.keys():   #only keys\n",
    "    print(f\"key: {x}\")"
   ]
  },
  {
   "cell_type": "code",
   "execution_count": 13,
   "metadata": {},
   "outputs": [
    {
     "name": "stdout",
     "output_type": "stream",
     "text": [
      "values: sagar_c\n",
      "values: sagar\n",
      "values: chaudhari\n",
      "values: 12345\n"
     ]
    }
   ],
   "source": [
    "for y in user.values():    #only values\n",
    "    print(f\"values: {y}\")"
   ]
  },
  {
   "cell_type": "code",
   "execution_count": null,
   "metadata": {},
   "outputs": [],
   "source": [
    "## End ##"
   ]
  }
 ],
 "metadata": {
  "kernelspec": {
   "display_name": "Python 3",
   "language": "python",
   "name": "python3"
  },
  "language_info": {
   "codemirror_mode": {
    "name": "ipython",
    "version": 3
   },
   "file_extension": ".py",
   "mimetype": "text/x-python",
   "name": "python",
   "nbconvert_exporter": "python",
   "pygments_lexer": "ipython3",
   "version": "3.8.3"
  }
 },
 "nbformat": 4,
 "nbformat_minor": 4
}

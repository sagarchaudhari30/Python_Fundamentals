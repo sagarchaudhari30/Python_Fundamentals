{
 "cells": [
  {
   "cell_type": "code",
   "execution_count": null,
   "metadata": {},
   "outputs": [],
   "source": [
    "# List Datatype : "
   ]
  },
  {
   "cell_type": "code",
   "execution_count": null,
   "metadata": {},
   "outputs": [],
   "source": [
    "#FOR LO0P RECAP#"
   ]
  },
  {
   "cell_type": "code",
   "execution_count": 3,
   "metadata": {},
   "outputs": [],
   "source": [
    "students=['deepan','ajeeeth','kumar','mayur','sufiyan','madiha','ishika']"
   ]
  },
  {
   "cell_type": "code",
   "execution_count": 4,
   "metadata": {},
   "outputs": [
    {
     "name": "stdout",
     "output_type": "stream",
     "text": [
      "['deepan', 'ajeeeth', 'kumar', 'mayur', 'sufiyan', 'madiha', 'ishika']\n"
     ]
    }
   ],
   "source": [
    "print(students)"
   ]
  },
  {
   "cell_type": "code",
   "execution_count": null,
   "metadata": {},
   "outputs": [],
   "source": [
    "#General Syntax of for loop: "
   ]
  },
  {
   "cell_type": "code",
   "execution_count": null,
   "metadata": {},
   "outputs": [],
   "source": [
    "for tempvar in mainvar:\n",
    "    print(tempvar)"
   ]
  },
  {
   "cell_type": "code",
   "execution_count": null,
   "metadata": {},
   "outputs": [],
   "source": [
    "#Appreciete students :"
   ]
  },
  {
   "cell_type": "code",
   "execution_count": 13,
   "metadata": {},
   "outputs": [
    {
     "name": "stdout",
     "output_type": "stream",
     "text": [
      "keep up the good work, deepan\n",
      "keep up the good work, ajeeeth\n",
      "keep up the good work, kumar\n",
      "keep up the good work, mayur\n",
      "keep up the good work, sufiyan\n",
      "keep up the good work, madiha\n",
      "keep up the good work, ishika\n"
     ]
    }
   ],
   "source": [
    "for x in students:\n",
    "    print(f\"keep up the good work, {x}\")"
   ]
  },
  {
   "cell_type": "code",
   "execution_count": null,
   "metadata": {},
   "outputs": [],
   "source": [
    "#Enhancement of the code ...\n",
    "Req: Also ask practice file of today as well..."
   ]
  },
  {
   "cell_type": "code",
   "execution_count": 12,
   "metadata": {},
   "outputs": [
    {
     "name": "stdout",
     "output_type": "stream",
     "text": [
      "keep up the good work, deepan\n",
      "send me practice file of today as well, deepan\n",
      "\n",
      "keep up the good work, ajeeeth\n",
      "send me practice file of today as well, ajeeeth\n",
      "\n",
      "keep up the good work, kumar\n",
      "send me practice file of today as well, kumar\n",
      "\n",
      "keep up the good work, mayur\n",
      "send me practice file of today as well, mayur\n",
      "\n",
      "keep up the good work, sufiyan\n",
      "send me practice file of today as well, sufiyan\n",
      "\n",
      "keep up the good work, madiha\n",
      "send me practice file of today as well, madiha\n",
      "\n",
      "keep up the good work, ishika\n",
      "send me practice file of today as well, ishika\n",
      "\n"
     ]
    }
   ],
   "source": [
    "for x in students:\n",
    "    print(f\"keep up the good work, {x}\")\n",
    "    print(f\"send me practice file of today as well, {x}\\n\")"
   ]
  },
  {
   "cell_type": "code",
   "execution_count": 17,
   "metadata": {},
   "outputs": [
    {
     "name": "stdout",
     "output_type": "stream",
     "text": [
      "keep up the good work, deepan\n",
      "send me practice file of today as well, deepan\n",
      "\n",
      "keep up the good work, ajeeeth\n",
      "send me practice file of today as well, ajeeeth\n",
      "\n",
      "keep up the good work, kumar\n",
      "send me practice file of today as well, kumar\n",
      "\n",
      "keep up the good work, mayur\n",
      "send me practice file of today as well, mayur\n",
      "\n",
      "keep up the good work, sufiyan\n",
      "send me practice file of today as well, sufiyan\n",
      "\n",
      "keep up the good work, madiha\n",
      "send me practice file of today as well, madiha\n",
      "\n",
      "keep up the good work, ishika\n",
      "send me practice file of today as well, ishika\n",
      "\n",
      "Thank you all for joining session today\n"
     ]
    }
   ],
   "source": [
    "for x in students:\n",
    "    print(f\"keep up the good work, {x}\")\n",
    "    print(f\"send me practice file of today as well, {x}\\n\")\n",
    "print(\"Thank you all for joining session today\")   #Change indent for last line single time in for loop condition"
   ]
  },
  {
   "cell_type": "code",
   "execution_count": null,
   "metadata": {},
   "outputs": [],
   "source": [
    "# Recap End #"
   ]
  },
  {
   "cell_type": "code",
   "execution_count": null,
   "metadata": {},
   "outputs": [],
   "source": []
  },
  {
   "cell_type": "code",
   "execution_count": null,
   "metadata": {},
   "outputs": [],
   "source": [
    "#Introduction to tUPLE datatype :"
   ]
  },
  {
   "cell_type": "code",
   "execution_count": null,
   "metadata": {},
   "outputs": [],
   "source": [
    "Defination : An immutable list is called as a Tuple. (Immutable = Which we can not edit/alter/modify later)\n",
    "\n",
    "Classification : Immutable\n",
    "    How to define a tuple ----> ()"
   ]
  },
  {
   "cell_type": "code",
   "execution_count": 34,
   "metadata": {},
   "outputs": [
    {
     "name": "stdout",
     "output_type": "stream",
     "text": [
      "(200, 50)\n"
     ]
    }
   ],
   "source": [
    "dimension = (200,50)\n",
    "print(dimension)"
   ]
  },
  {
   "cell_type": "code",
   "execution_count": 27,
   "metadata": {},
   "outputs": [
    {
     "data": {
      "text/plain": [
       "tuple"
      ]
     },
     "execution_count": 27,
     "metadata": {},
     "output_type": "execute_result"
    }
   ],
   "source": [
    "type(dimension)  #To check dattype"
   ]
  },
  {
   "cell_type": "code",
   "execution_count": null,
   "metadata": {},
   "outputs": [],
   "source": []
  },
  {
   "cell_type": "code",
   "execution_count": null,
   "metadata": {},
   "outputs": [],
   "source": [
    "#Req:  i want to change this 200 to 250 !"
   ]
  },
  {
   "cell_type": "code",
   "execution_count": 31,
   "metadata": {
    "scrolled": true
   },
   "outputs": [
    {
     "ename": "TypeError",
     "evalue": "'tuple' object does not support item assignment",
     "output_type": "error",
     "traceback": [
      "\u001b[1;31m---------------------------------------------------------------------------\u001b[0m",
      "\u001b[1;31mTypeError\u001b[0m                                 Traceback (most recent call last)",
      "\u001b[1;32m<ipython-input-31-5be7c47ba7c8>\u001b[0m in \u001b[0;36m<module>\u001b[1;34m\u001b[0m\n\u001b[1;32m----> 1\u001b[1;33m \u001b[0mdimension\u001b[0m\u001b[1;33m[\u001b[0m\u001b[1;36m0\u001b[0m\u001b[1;33m]\u001b[0m \u001b[1;33m=\u001b[0m \u001b[1;36m250\u001b[0m  \u001b[1;31m#It will give you an below error because tuple can not modify\u001b[0m\u001b[1;33m\u001b[0m\u001b[1;33m\u001b[0m\u001b[0m\n\u001b[0m",
      "\u001b[1;31mTypeError\u001b[0m: 'tuple' object does not support item assignment"
     ]
    }
   ],
   "source": [
    "dimension[0] = 250  #It will give you an below error because tuple can not modify\n"
   ]
  },
  {
   "cell_type": "code",
   "execution_count": 35,
   "metadata": {},
   "outputs": [
    {
     "name": "stdout",
     "output_type": "stream",
     "text": [
      "(250, 50)\n"
     ]
    }
   ],
   "source": [
    "dimension = (250,50)  #Again define the same varibale with new value then access it\n",
    "print(dimension)"
   ]
  },
  {
   "cell_type": "code",
   "execution_count": null,
   "metadata": {},
   "outputs": [],
   "source": []
  }
 ],
 "metadata": {
  "kernelspec": {
   "display_name": "Python 3",
   "language": "python",
   "name": "python3"
  },
  "language_info": {
   "codemirror_mode": {
    "name": "ipython",
    "version": 3
   },
   "file_extension": ".py",
   "mimetype": "text/x-python",
   "name": "python",
   "nbconvert_exporter": "python",
   "pygments_lexer": "ipython3",
   "version": "3.8.3"
  }
 },
 "nbformat": 4,
 "nbformat_minor": 4
}

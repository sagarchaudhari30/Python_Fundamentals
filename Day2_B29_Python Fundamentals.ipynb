{
 "cells": [
  {
   "cell_type": "code",
   "execution_count": 3,
   "metadata": {},
   "outputs": [
    {
     "ename": "SyntaxError",
     "evalue": "invalid syntax (<ipython-input-3-6e6f56ae244f>, line 3)",
     "output_type": "error",
     "traceback": [
      "\u001b[1;36m  File \u001b[1;32m\"<ipython-input-3-6e6f56ae244f>\"\u001b[1;36m, line \u001b[1;32m3\u001b[0m\n\u001b[1;33m    full name = \"SAGAR CHAUDHARI\"\u001b[0m\n\u001b[1;37m         ^\u001b[0m\n\u001b[1;31mSyntaxError\u001b[0m\u001b[1;31m:\u001b[0m invalid syntax\n"
     ]
    }
   ],
   "source": [
    "# Declaring variables :\n",
    "#1. should be a complete name with no namespace\n",
    "full name = \"SAGAR CHAUDHARI\"\n",
    "print(full name)"
   ]
  },
  {
   "cell_type": "code",
   "execution_count": 4,
   "metadata": {},
   "outputs": [
    {
     "name": "stdout",
     "output_type": "stream",
     "text": [
      "SAGAR CHAUDHARI\n"
     ]
    }
   ],
   "source": [
    "# Correct variable withput space or it will throw error :\n",
    "full_name = \"SAGAR CHAUDHARI\"\n",
    "print(full_name)"
   ]
  },
  {
   "cell_type": "code",
   "execution_count": 5,
   "metadata": {},
   "outputs": [
    {
     "ename": "SyntaxError",
     "evalue": "invalid syntax (<ipython-input-5-6d9db8594527>, line 2)",
     "output_type": "error",
     "traceback": [
      "\u001b[1;36m  File \u001b[1;32m\"<ipython-input-5-6d9db8594527>\"\u001b[1;36m, line \u001b[1;32m2\u001b[0m\n\u001b[1;33m    1full_name = \"SAGAR CHAUDHARI\"\u001b[0m\n\u001b[1;37m     ^\u001b[0m\n\u001b[1;31mSyntaxError\u001b[0m\u001b[1;31m:\u001b[0m invalid syntax\n"
     ]
    }
   ],
   "source": [
    "#2. Variable should not start with a number\n",
    "1full_name = \"SAGAR CHAUDHARI\"\n",
    "print(1full_name)"
   ]
  },
  {
   "cell_type": "code",
   "execution_count": 6,
   "metadata": {},
   "outputs": [
    {
     "name": "stdout",
     "output_type": "stream",
     "text": [
      "SAGAR CHAUDHARI\n"
     ]
    }
   ],
   "source": [
    "full_name1 = \"SAGAR CHAUDHARI\"  # Variable can end by a number\n",
    "print(full_name1)"
   ]
  },
  {
   "cell_type": "code",
   "execution_count": 7,
   "metadata": {},
   "outputs": [
    {
     "name": "stdout",
     "output_type": "stream",
     "text": [
      "11\n"
     ]
    }
   ],
   "source": [
    "x=5\n",
    "y=6\n",
    "print(x+y)"
   ]
  },
  {
   "cell_type": "code",
   "execution_count": 11,
   "metadata": {},
   "outputs": [
    {
     "name": "stdout",
     "output_type": "stream",
     "text": [
      "<class 'str'>\n",
      "<class 'int'>\n"
     ]
    }
   ],
   "source": [
    "#Built-in Functions\n",
    "#Identify class of variable:  type()\n",
    "\n",
    "string = \"SAGAR CHAUDHARI\"\n",
    "x = 56\n",
    "\n",
    "print(type(string))\n",
    "print(type(x))"
   ]
  },
  {
   "cell_type": "code",
   "execution_count": 15,
   "metadata": {},
   "outputs": [
    {
     "name": "stdout",
     "output_type": "stream",
     "text": [
      "Sagar Chaudhari\n"
     ]
    }
   ],
   "source": [
    "string = \"SAGAR CHAUDHARI\"    #Transform Output in required format -->  title(), lower() , upper()\n",
    "print(string.title())"
   ]
  },
  {
   "cell_type": "code",
   "execution_count": 13,
   "metadata": {},
   "outputs": [
    {
     "name": "stdout",
     "output_type": "stream",
     "text": [
      "sagar chaudhari\n"
     ]
    }
   ],
   "source": [
    "string = \"SAGAR CHAUDHARI\"\n",
    "print(string.lower())"
   ]
  },
  {
   "cell_type": "code",
   "execution_count": 14,
   "metadata": {},
   "outputs": [
    {
     "name": "stdout",
     "output_type": "stream",
     "text": [
      "SAGAR CHAUDHARI\n"
     ]
    }
   ],
   "source": [
    "string = \"SAGAR CHAUDHARI\"\n",
    "print(string.upper())"
   ]
  }
 ],
 "metadata": {
  "kernelspec": {
   "display_name": "Python 3",
   "language": "python",
   "name": "python3"
  },
  "language_info": {
   "codemirror_mode": {
    "name": "ipython",
    "version": 3
   },
   "file_extension": ".py",
   "mimetype": "text/x-python",
   "name": "python",
   "nbconvert_exporter": "python",
   "pygments_lexer": "ipython3",
   "version": "3.8.3"
  }
 },
 "nbformat": 4,
 "nbformat_minor": 4
}

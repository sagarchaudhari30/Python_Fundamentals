{
 "cells": [
  {
   "cell_type": "code",
   "execution_count": null,
   "metadata": {},
   "outputs": [],
   "source": [
    "# Continuation wityh list:"
   ]
  },
  {
   "cell_type": "code",
   "execution_count": null,
   "metadata": {},
   "outputs": [],
   "source": [
    "Slicing of list:"
   ]
  },
  {
   "cell_type": "code",
   "execution_count": 12,
   "metadata": {},
   "outputs": [],
   "source": [
    "students = ['mayur','ravi','yogesh','sriniwas','naveed','kiran','anusha','sukanya']"
   ]
  },
  {
   "cell_type": "code",
   "execution_count": 13,
   "metadata": {},
   "outputs": [
    {
     "name": "stdout",
     "output_type": "stream",
     "text": [
      "['mayur', 'ravi', 'yogesh', 'sriniwas', 'naveed', 'kiran', 'anusha', 'sukanya']\n"
     ]
    }
   ],
   "source": [
    "print(students)"
   ]
  },
  {
   "cell_type": "code",
   "execution_count": null,
   "metadata": {},
   "outputs": [],
   "source": [
    "#General syntax ---> var[startvalue:stopvalue:stepcount]\\\n",
    "Note: Lat value is always exclusive"
   ]
  },
  {
   "cell_type": "code",
   "execution_count": 14,
   "metadata": {},
   "outputs": [
    {
     "name": "stdout",
     "output_type": "stream",
     "text": [
      "['mayur', 'ravi']\n"
     ]
    }
   ],
   "source": [
    "print(students[0:2])"
   ]
  },
  {
   "cell_type": "code",
   "execution_count": 16,
   "metadata": {},
   "outputs": [],
   "source": [
    "#Req: I want to get every alternate student in the above list in a group...!"
   ]
  },
  {
   "cell_type": "code",
   "execution_count": 22,
   "metadata": {},
   "outputs": [
    {
     "name": "stdout",
     "output_type": "stream",
     "text": [
      "['mayur', 'yogesh', 'naveed', 'anusha']\n"
     ]
    }
   ],
   "source": [
    "print(students[0:8:2])"
   ]
  },
  {
   "cell_type": "code",
   "execution_count": null,
   "metadata": {},
   "outputs": [],
   "source": []
  },
  {
   "cell_type": "code",
   "execution_count": null,
   "metadata": {},
   "outputs": [],
   "source": [
    "#Introduction to for loops: ***"
   ]
  },
  {
   "cell_type": "code",
   "execution_count": 29,
   "metadata": {},
   "outputs": [],
   "source": [
    "newstudents = ['anjali','mansoora','ajeeth','naveed','kiran','ram','harshita','zubair']"
   ]
  },
  {
   "cell_type": "code",
   "execution_count": null,
   "metadata": {},
   "outputs": [],
   "source": [
    "#Req : I want to appreciete all the students from submitting their daily assignments on time.\n",
    "Anjali ---->"
   ]
  },
  {
   "cell_type": "code",
   "execution_count": 30,
   "metadata": {},
   "outputs": [
    {
     "name": "stdout",
     "output_type": "stream",
     "text": [
      "keep up the good work,anjali\n"
     ]
    }
   ],
   "source": [
    "print(f\"keep up the good work,{newstudents[0]}\")"
   ]
  },
  {
   "cell_type": "code",
   "execution_count": 32,
   "metadata": {},
   "outputs": [
    {
     "name": "stdout",
     "output_type": "stream",
     "text": [
      "keep up the good work, Anjali\n"
     ]
    }
   ],
   "source": [
    "print(f\"keep up the good work, {newstudents[0].title()}\")"
   ]
  },
  {
   "cell_type": "code",
   "execution_count": 33,
   "metadata": {},
   "outputs": [
    {
     "name": "stdout",
     "output_type": "stream",
     "text": [
      "keep up the good work, Mansoora\n"
     ]
    }
   ],
   "source": [
    "print(f\"keep up the good work, {newstudents[1].title()}\")"
   ]
  },
  {
   "cell_type": "code",
   "execution_count": 35,
   "metadata": {},
   "outputs": [
    {
     "name": "stdout",
     "output_type": "stream",
     "text": [
      "keep up the good work, anjali\n",
      "keep up the good work, mansoora\n",
      "keep up the good work, ajeeth\n",
      "keep up the good work, naveed\n",
      "keep up the good work, kiran\n",
      "keep up the good work, ram\n",
      "keep up the good work, harshita\n",
      "keep up the good work, zubair\n"
     ]
    }
   ],
   "source": [
    "for student in newstudents:\n",
    "    print(f\"keep up the good work, {student}\")"
   ]
  },
  {
   "cell_type": "code",
   "execution_count": null,
   "metadata": {},
   "outputs": [],
   "source": [
    "#Genearal syntax of a --> for loop"
   ]
  },
  {
   "cell_type": "code",
   "execution_count": null,
   "metadata": {},
   "outputs": [],
   "source": [
    "newstudents = ['anjali','mansoora','ajeeth','naveed','kiran','ram','harshita','zubair']\n",
    "#here newstudents is called as  --> main variable"
   ]
  },
  {
   "cell_type": "code",
   "execution_count": null,
   "metadata": {},
   "outputs": [],
   "source": [
    "formula:\n",
    "    \n",
    "for tempvar in mainvar:\n",
    "    print(tempvar)       #indentation"
   ]
  },
  {
   "cell_type": "code",
   "execution_count": 36,
   "metadata": {},
   "outputs": [
    {
     "name": "stdout",
     "output_type": "stream",
     "text": [
      "keep up the good work, anjali\n",
      "keep up the good work, mansoora\n",
      "keep up the good work, ajeeth\n",
      "keep up the good work, naveed\n",
      "keep up the good work, kiran\n",
      "keep up the good work, ram\n",
      "keep up the good work, harshita\n",
      "keep up the good work, zubair\n"
     ]
    }
   ],
   "source": [
    "for x in newstudents:   # x is temp variable, it can be anything\n",
    "    print(f\"keep up the good work, {x}\")"
   ]
  },
  {
   "cell_type": "code",
   "execution_count": null,
   "metadata": {},
   "outputs": [],
   "source": [
    "#Additional requirement:  I want to send me the practice files of  today as well ..?"
   ]
  },
  {
   "cell_type": "code",
   "execution_count": 37,
   "metadata": {},
   "outputs": [
    {
     "name": "stdout",
     "output_type": "stream",
     "text": [
      "keep up the good work, anjali\n",
      "I am looking forward to receive your files of today,anjali\n",
      "keep up the good work, mansoora\n",
      "I am looking forward to receive your files of today,mansoora\n",
      "keep up the good work, ajeeth\n",
      "I am looking forward to receive your files of today,ajeeth\n",
      "keep up the good work, naveed\n",
      "I am looking forward to receive your files of today,naveed\n",
      "keep up the good work, kiran\n",
      "I am looking forward to receive your files of today,kiran\n",
      "keep up the good work, ram\n",
      "I am looking forward to receive your files of today,ram\n",
      "keep up the good work, harshita\n",
      "I am looking forward to receive your files of today,harshita\n",
      "keep up the good work, zubair\n",
      "I am looking forward to receive your files of today,zubair\n"
     ]
    }
   ],
   "source": [
    "for x in newstudents: \n",
    "    print(f\"keep up the good work, {x}\")\n",
    "    print(f\"I am looking forward to receive your files of today,{x}\")"
   ]
  },
  {
   "cell_type": "code",
   "execution_count": 39,
   "metadata": {},
   "outputs": [
    {
     "name": "stdout",
     "output_type": "stream",
     "text": [
      "keep up the good work, anjali\n",
      "I am looking forward to receive your files of today,anjali.\n",
      "\n",
      "keep up the good work, mansoora\n",
      "I am looking forward to receive your files of today,mansoora.\n",
      "\n",
      "keep up the good work, ajeeth\n",
      "I am looking forward to receive your files of today,ajeeth.\n",
      "\n",
      "keep up the good work, naveed\n",
      "I am looking forward to receive your files of today,naveed.\n",
      "\n",
      "keep up the good work, kiran\n",
      "I am looking forward to receive your files of today,kiran.\n",
      "\n",
      "keep up the good work, ram\n",
      "I am looking forward to receive your files of today,ram.\n",
      "\n",
      "keep up the good work, harshita\n",
      "I am looking forward to receive your files of today,harshita.\n",
      "\n",
      "keep up the good work, zubair\n",
      "I am looking forward to receive your files of today,zubair.\n",
      "\n"
     ]
    }
   ],
   "source": [
    "for x in newstudents: \n",
    "    print(f\"keep up the good work, {x}\")\n",
    "    print(f\"I am looking forward to receive your files of today,{x}.\\n\")"
   ]
  },
  {
   "cell_type": "code",
   "execution_count": null,
   "metadata": {},
   "outputs": [],
   "source": []
  },
  {
   "cell_type": "code",
   "execution_count": null,
   "metadata": {},
   "outputs": [],
   "source": []
  }
 ],
 "metadata": {
  "kernelspec": {
   "display_name": "Python 3",
   "language": "python",
   "name": "python3"
  },
  "language_info": {
   "codemirror_mode": {
    "name": "ipython",
    "version": 3
   },
   "file_extension": ".py",
   "mimetype": "text/x-python",
   "name": "python",
   "nbconvert_exporter": "python",
   "pygments_lexer": "ipython3",
   "version": "3.8.3"
  }
 },
 "nbformat": 4,
 "nbformat_minor": 4
}
